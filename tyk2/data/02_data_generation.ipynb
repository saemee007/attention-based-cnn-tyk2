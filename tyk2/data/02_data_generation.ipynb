{
 "cells": [
  {
   "cell_type": "code",
   "execution_count": 10,
   "metadata": {},
   "outputs": [],
   "source": [
    "import json\n",
    "import pandas as pd"
   ]
  },
  {
   "cell_type": "markdown",
   "metadata": {},
   "source": [
    "# Data Loading\n"
   ]
  },
  {
   "cell_type": "code",
   "execution_count": 11,
   "metadata": {},
   "outputs": [
    {
     "name": "stderr",
     "output_type": "stream",
     "text": [
      "C:\\ProgramData\\Anaconda3\\lib\\site-packages\\IPython\\core\\interactiveshell.py:3444: DtypeWarning: Columns (11,12,13,20,21) have mixed types.Specify dtype option on import or set low_memory=False.\n",
      "  exec(code_obj, self.user_global_ns, self.user_ns)\n"
     ]
    }
   ],
   "source": [
    "df = pd.read_csv('data/GeneID_7297_bioactivity_gene.csv')"
   ]
  },
  {
   "cell_type": "markdown",
   "metadata": {},
   "source": [
    "# Data Filtering"
   ]
  },
  {
   "cell_type": "code",
   "execution_count": 12,
   "metadata": {},
   "outputs": [
    {
     "data": {
      "text/plain": [
       "activity\n",
       "Active      2074\n",
       "Inactive     231\n",
       "dtype: int64"
      ]
     },
     "execution_count": 12,
     "metadata": {},
     "output_type": "execute_result"
    }
   ],
   "source": [
    "df = df[df['aidtype']=='Confirmatory']\n",
    "df = df[list(map(lambda act: (act in ['Active', 'Inactive']), df['activity']))]\n",
    "df[['activity']].value_counts()"
   ]
  },
  {
   "cell_type": "code",
   "execution_count": 13,
   "metadata": {},
   "outputs": [],
   "source": [
    "#df[list(map(lambda act: (act in ['Active', 'Inactive']), df['activity']))]['cid'].to_csv('data/tyk2_cid.csv', index=False, header=False)"
   ]
  },
  {
   "cell_type": "code",
   "execution_count": 14,
   "metadata": {},
   "outputs": [],
   "source": [
    "with open ('data/tyk2_cid_smi.txt', 'r') as f:\n",
    "    data = f.read().split('\\n')\n",
    "data = [i.split() for i in data][:-1]\n",
    "cid_smi = pd.DataFrame(data, columns=['cid','smiles'])"
   ]
  },
  {
   "cell_type": "code",
   "execution_count": 15,
   "metadata": {},
   "outputs": [],
   "source": [
    "cid_smi['cid'] = cid_smi['cid'].astype('int64')"
   ]
  },
  {
   "cell_type": "code",
   "execution_count": 16,
   "metadata": {
    "scrolled": false
   },
   "outputs": [
    {
     "data": {
      "text/html": [
       "<div>\n",
       "<style scoped>\n",
       "    .dataframe tbody tr th:only-of-type {\n",
       "        vertical-align: middle;\n",
       "    }\n",
       "\n",
       "    .dataframe tbody tr th {\n",
       "        vertical-align: top;\n",
       "    }\n",
       "\n",
       "    .dataframe thead th {\n",
       "        text-align: right;\n",
       "    }\n",
       "</style>\n",
       "<table border=\"1\" class=\"dataframe\">\n",
       "  <thead>\n",
       "    <tr style=\"text-align: right;\">\n",
       "      <th></th>\n",
       "      <th>activity</th>\n",
       "      <th>cid</th>\n",
       "      <th>smiles</th>\n",
       "    </tr>\n",
       "  </thead>\n",
       "  <tbody>\n",
       "    <tr>\n",
       "      <th>0</th>\n",
       "      <td>1</td>\n",
       "      <td>5494425</td>\n",
       "      <td>CC(C)(C)C1=NC2=C(N1)C3=C(C=C(C=C3)F)C4=C2C=CNC4=O</td>\n",
       "    </tr>\n",
       "    <tr>\n",
       "      <th>1</th>\n",
       "      <td>1</td>\n",
       "      <td>5494425</td>\n",
       "      <td>CC(C)(C)C1=NC2=C(N1)C3=C(C=C(C=C3)F)C4=C2C=CNC4=O</td>\n",
       "    </tr>\n",
       "    <tr>\n",
       "      <th>2</th>\n",
       "      <td>1</td>\n",
       "      <td>5494425</td>\n",
       "      <td>CC(C)(C)C1=NC2=C(N1)C3=C(C=C(C=C3)F)C4=C2C=CNC4=O</td>\n",
       "    </tr>\n",
       "    <tr>\n",
       "      <th>3</th>\n",
       "      <td>1</td>\n",
       "      <td>5494425</td>\n",
       "      <td>CC(C)(C)C1=NC2=C(N1)C3=C(C=C(C=C3)F)C4=C2C=CNC4=O</td>\n",
       "    </tr>\n",
       "    <tr>\n",
       "      <th>4</th>\n",
       "      <td>1</td>\n",
       "      <td>5494425</td>\n",
       "      <td>CC(C)(C)C1=NC2=C(N1)C3=C(C=C(C=C3)F)C4=C2C=CNC4=O</td>\n",
       "    </tr>\n",
       "    <tr>\n",
       "      <th>...</th>\n",
       "      <td>...</td>\n",
       "      <td>...</td>\n",
       "      <td>...</td>\n",
       "    </tr>\n",
       "    <tr>\n",
       "      <th>9562</th>\n",
       "      <td>1</td>\n",
       "      <td>50914062</td>\n",
       "      <td>C[C@H]1CN([C@]12CCN(C2)C3=NC=NC4=C3C=CN4)C(=O)...</td>\n",
       "    </tr>\n",
       "    <tr>\n",
       "      <th>9563</th>\n",
       "      <td>1</td>\n",
       "      <td>50914062</td>\n",
       "      <td>C[C@H]1CN([C@]12CCN(C2)C3=NC=NC4=C3C=CN4)C(=O)...</td>\n",
       "    </tr>\n",
       "    <tr>\n",
       "      <th>9564</th>\n",
       "      <td>1</td>\n",
       "      <td>50914062</td>\n",
       "      <td>C[C@H]1CN([C@]12CCN(C2)C3=NC=NC4=C3C=CN4)C(=O)...</td>\n",
       "    </tr>\n",
       "    <tr>\n",
       "      <th>9565</th>\n",
       "      <td>1</td>\n",
       "      <td>50914062</td>\n",
       "      <td>C[C@H]1CN([C@]12CCN(C2)C3=NC=NC4=C3C=CN4)C(=O)...</td>\n",
       "    </tr>\n",
       "    <tr>\n",
       "      <th>9566</th>\n",
       "      <td>1</td>\n",
       "      <td>50914062</td>\n",
       "      <td>C[C@H]1CN([C@]12CCN(C2)C3=NC=NC4=C3C=CN4)C(=O)...</td>\n",
       "    </tr>\n",
       "  </tbody>\n",
       "</table>\n",
       "<p>9567 rows × 3 columns</p>\n",
       "</div>"
      ],
      "text/plain": [
       "      activity       cid                                             smiles\n",
       "0            1   5494425  CC(C)(C)C1=NC2=C(N1)C3=C(C=C(C=C3)F)C4=C2C=CNC4=O\n",
       "1            1   5494425  CC(C)(C)C1=NC2=C(N1)C3=C(C=C(C=C3)F)C4=C2C=CNC4=O\n",
       "2            1   5494425  CC(C)(C)C1=NC2=C(N1)C3=C(C=C(C=C3)F)C4=C2C=CNC4=O\n",
       "3            1   5494425  CC(C)(C)C1=NC2=C(N1)C3=C(C=C(C=C3)F)C4=C2C=CNC4=O\n",
       "4            1   5494425  CC(C)(C)C1=NC2=C(N1)C3=C(C=C(C=C3)F)C4=C2C=CNC4=O\n",
       "...        ...       ...                                                ...\n",
       "9562         1  50914062  C[C@H]1CN([C@]12CCN(C2)C3=NC=NC4=C3C=CN4)C(=O)...\n",
       "9563         1  50914062  C[C@H]1CN([C@]12CCN(C2)C3=NC=NC4=C3C=CN4)C(=O)...\n",
       "9564         1  50914062  C[C@H]1CN([C@]12CCN(C2)C3=NC=NC4=C3C=CN4)C(=O)...\n",
       "9565         1  50914062  C[C@H]1CN([C@]12CCN(C2)C3=NC=NC4=C3C=CN4)C(=O)...\n",
       "9566         1  50914062  C[C@H]1CN([C@]12CCN(C2)C3=NC=NC4=C3C=CN4)C(=O)...\n",
       "\n",
       "[9567 rows x 3 columns]"
      ]
     },
     "execution_count": 16,
     "metadata": {},
     "output_type": "execute_result"
    }
   ],
   "source": [
    "act_cid_smi = pd.merge(df[['activity', 'cid']], cid_smi, how='inner', on='cid')\n",
    "act_cid_smi = act_cid_smi.replace({'Active':1, 'Inactive':0})\n",
    "act_cid_smi"
   ]
  },
  {
   "cell_type": "code",
   "execution_count": 17,
   "metadata": {},
   "outputs": [],
   "source": [
    "act_cid_smi.drop_duplicates(subset=['cid'])[['smiles','activity']].to_csv('data/tyk2_smi_act.csv', index=False)"
   ]
  },
  {
   "cell_type": "markdown",
   "metadata": {},
   "source": [
    "# Data Generation"
   ]
  },
  {
   "cell_type": "code",
   "execution_count": 18,
   "metadata": {},
   "outputs": [],
   "source": [
    "from tqdm import tqdm\n",
    "from rdkit import Chem\n",
    "from feature import mol_to_feature\n",
    "import numpy as np\n",
    "import pickle\n",
    "from mordred import Calculator, descriptors"
   ]
  },
  {
   "cell_type": "code",
   "execution_count": 19,
   "metadata": {},
   "outputs": [],
   "source": [
    "MAX_LEN = 150\n",
    "INPUT_SMILES = 'data/tyk2_smi_act.csv'\n",
    "#OUTPUT = 'data/tyk2.pickle'\n",
    "SMILE = 'smiles'\n",
    "ACTIVE = 'activity'\n",
    "ID = 'id'\n",
    "DEBUG = False"
   ]
  },
  {
   "cell_type": "code",
   "execution_count": 20,
   "metadata": {},
   "outputs": [
    {
     "name": "stdout",
     "output_type": "stream",
     "text": [
      "                                              smiles  activity\n",
      "0  CC(C)(C)C1=NC2=C(N1)C3=C(C=C(C=C3)F)C4=C2C=CNC4=O         1\n",
      "1  CC(C)S(=O)(=O)C1=CC=CC=C1NC2=NC(=NC=C2Cl)NC3=C...         1\n",
      "2  CC1=C(C(=CC=C1)C)N2C(=O)C3=CN=C(N=C3N4C2=NC5=C...         1\n",
      "3  C1CC1NC(=O)NC2=C(NN=C2)C3=NC4=C(N3)C=C(C=C4)CN...         1\n",
      "4  CC1=C(C=C(C=C1)C(=O)NC2=C(C=CC(=C2)C(F)(F)F)OC...         1\n",
      "Shape before dropping duplicates:  (1545, 2)\n",
      "Shape after dropping duplicates:  (1545, 2)\n"
     ]
    }
   ],
   "source": [
    "df = pd.read_csv(INPUT_SMILES)\n",
    "print(df.head())\n",
    "print ('Shape before dropping duplicates: ', df.shape)\n",
    "df = df.drop_duplicates(subset=[SMILE])\n",
    "print ('Shape after dropping duplicates: ', df.shape)\n",
    "\n",
    "if DEBUG:\n",
    "    df = df.head(10)"
   ]
  },
  {
   "cell_type": "code",
   "execution_count": 21,
   "metadata": {},
   "outputs": [],
   "source": [
    "mols = [Chem.MolFromSmiles(i) for i in df.smiles]"
   ]
  },
  {
   "cell_type": "code",
   "execution_count": 138,
   "metadata": {},
   "outputs": [
    {
     "name": "stderr",
     "output_type": "stream",
     "text": [
      " 72%|████████████████████████████████████████████████████████▏                     | 1113/1545 [02:04<03:32,  2.03it/s]"
     ]
    },
    {
     "name": "stdout",
     "output_type": "stream",
     "text": [
      "C:\\ProgramData\\Anaconda3\\lib\\site-packages\\numpy\\core\\fromnumeric.py:86: RuntimeWarning: overflow encountered in reduce\n",
      "  return ufunc.reduce(obj, axis, dtype, out, **passkwargs)\n"
     ]
    },
    {
     "name": "stderr",
     "output_type": "stream",
     "text": [
      " 79%|█████████████████████████████████████████████████████████████▎                | 1214/1545 [02:18<03:12,  1.72it/s]"
     ]
    },
    {
     "name": "stdout",
     "output_type": "stream",
     "text": [
      "C:\\ProgramData\\Anaconda3\\lib\\site-packages\\numpy\\core\\fromnumeric.py:86: RuntimeWarning: overflow encountered in reduce\n",
      "  return ufunc.reduce(obj, axis, dtype, out, **passkwargs)\n"
     ]
    },
    {
     "name": "stderr",
     "output_type": "stream",
     "text": [
      " 81%|██████████████████████████████████████████████████████████████▊               | 1245/1545 [02:19<00:27, 10.76it/s]"
     ]
    },
    {
     "name": "stdout",
     "output_type": "stream",
     "text": [
      "C:\\ProgramData\\Anaconda3\\lib\\site-packages\\numpy\\core\\fromnumeric.py:86: RuntimeWarning: overflow encountered in reduce\n",
      "  return ufunc.reduce(obj, axis, dtype, out, **passkwargs)\n"
     ]
    },
    {
     "name": "stderr",
     "output_type": "stream",
     "text": [
      "100%|██████████████████████████████████████████████████████████████████████████████| 1545/1545 [02:58<00:00,  8.64it/s]\n"
     ]
    }
   ],
   "source": [
    "calc = Calculator(descriptors, ignore_3D=True)\n",
    "md = calc.pandas(mols)"
   ]
  },
  {
   "cell_type": "code",
   "execution_count": 139,
   "metadata": {},
   "outputs": [],
   "source": [
    "smile_ft = [mol_to_feature(mol,-1, 150) for mol in mols]"
   ]
  },
  {
   "cell_type": "code",
   "execution_count": 140,
   "metadata": {},
   "outputs": [],
   "source": [
    "md['active'] = df[ACTIVE]\n",
    "md['smiles'] = df[SMILE]\n",
    "md['smile_ft'] = smile_ft\n",
    "md['id'] = list(md.index)\n",
    "md['subset'] = np.full(len(md),10)"
   ]
  },
  {
   "cell_type": "code",
   "execution_count": 141,
   "metadata": {
    "scrolled": false
   },
   "outputs": [
    {
     "data": {
      "text/html": [
       "<div>\n",
       "<style scoped>\n",
       "    .dataframe tbody tr th:only-of-type {\n",
       "        vertical-align: middle;\n",
       "    }\n",
       "\n",
       "    .dataframe tbody tr th {\n",
       "        vertical-align: top;\n",
       "    }\n",
       "\n",
       "    .dataframe thead th {\n",
       "        text-align: right;\n",
       "    }\n",
       "</style>\n",
       "<table border=\"1\" class=\"dataframe\">\n",
       "  <thead>\n",
       "    <tr style=\"text-align: right;\">\n",
       "      <th></th>\n",
       "      <th>ABC</th>\n",
       "      <th>ABCGG</th>\n",
       "      <th>nAcid</th>\n",
       "      <th>nBase</th>\n",
       "      <th>SpAbs_A</th>\n",
       "      <th>SpMax_A</th>\n",
       "      <th>SpDiam_A</th>\n",
       "      <th>SpAD_A</th>\n",
       "      <th>SpMAD_A</th>\n",
       "      <th>LogEE_A</th>\n",
       "      <th>...</th>\n",
       "      <th>WPol</th>\n",
       "      <th>Zagreb1</th>\n",
       "      <th>Zagreb2</th>\n",
       "      <th>mZagreb1</th>\n",
       "      <th>mZagreb2</th>\n",
       "      <th>active</th>\n",
       "      <th>smiles</th>\n",
       "      <th>smile_ft</th>\n",
       "      <th>id</th>\n",
       "      <th>subset</th>\n",
       "    </tr>\n",
       "  </thead>\n",
       "  <tbody>\n",
       "    <tr>\n",
       "      <th>0</th>\n",
       "      <td>18.735621</td>\n",
       "      <td>14.924099</td>\n",
       "      <td>0</td>\n",
       "      <td>0</td>\n",
       "      <td>29.154095</td>\n",
       "      <td>2.588788</td>\n",
       "      <td>5.118091</td>\n",
       "      <td>29.154095</td>\n",
       "      <td>1.267569</td>\n",
       "      <td>4.106965</td>\n",
       "      <td>...</td>\n",
       "      <td>43</td>\n",
       "      <td>134.0</td>\n",
       "      <td>165.0</td>\n",
       "      <td>8.0625</td>\n",
       "      <td>4.694444</td>\n",
       "      <td>1</td>\n",
       "      <td>CC(C)(C)C1=NC2=C(N1)C3=C(C=C(C=C3)F)C4=C2C=CNC4=O</td>\n",
       "      <td>[0, 1, 0, 0, 0, 0.375, 1.0, 0.0, 0.5, 0, 0, 0,...</td>\n",
       "      <td>0</td>\n",
       "      <td>10</td>\n",
       "    </tr>\n",
       "    <tr>\n",
       "      <th>1</th>\n",
       "      <td>32.956889</td>\n",
       "      <td>23.001891</td>\n",
       "      <td>0</td>\n",
       "      <td>2</td>\n",
       "      <td>54.329075</td>\n",
       "      <td>2.436897</td>\n",
       "      <td>4.873793</td>\n",
       "      <td>54.329075</td>\n",
       "      <td>1.293549</td>\n",
       "      <td>4.666985</td>\n",
       "      <td>...</td>\n",
       "      <td>72</td>\n",
       "      <td>224.0</td>\n",
       "      <td>265.0</td>\n",
       "      <td>13.756944</td>\n",
       "      <td>9.138889</td>\n",
       "      <td>1</td>\n",
       "      <td>CC(C)S(=O)(=O)C1=CC=CC=C1NC2=NC(=NC=C2Cl)NC3=C...</td>\n",
       "      <td>[0, 1, 0, 0, 0, 0.375, 1.0, 0.0, 0.5, 0, 0, 0,...</td>\n",
       "      <td>1</td>\n",
       "      <td>10</td>\n",
       "    </tr>\n",
       "    <tr>\n",
       "      <th>2</th>\n",
       "      <td>32.479190</td>\n",
       "      <td>22.135020</td>\n",
       "      <td>0</td>\n",
       "      <td>1</td>\n",
       "      <td>53.591166</td>\n",
       "      <td>2.612384</td>\n",
       "      <td>5.154666</td>\n",
       "      <td>53.591166</td>\n",
       "      <td>1.339779</td>\n",
       "      <td>4.653678</td>\n",
       "      <td>...</td>\n",
       "      <td>75</td>\n",
       "      <td>228.0</td>\n",
       "      <td>280.0</td>\n",
       "      <td>10.777778</td>\n",
       "      <td>8.500000</td>\n",
       "      <td>1</td>\n",
       "      <td>CC1=C(C(=CC=C1)C)N2C(=O)C3=CN=C(N=C3N4C2=NC5=C...</td>\n",
       "      <td>[0, 1, 0, 0, 0, 0.375, 1.0, 0.0, 0.5, 0, 0, 0,...</td>\n",
       "      <td>2</td>\n",
       "      <td>10</td>\n",
       "    </tr>\n",
       "    <tr>\n",
       "      <th>3</th>\n",
       "      <td>22.615486</td>\n",
       "      <td>17.171952</td>\n",
       "      <td>0</td>\n",
       "      <td>1</td>\n",
       "      <td>37.534456</td>\n",
       "      <td>2.468234</td>\n",
       "      <td>4.768875</td>\n",
       "      <td>37.534456</td>\n",
       "      <td>1.340516</td>\n",
       "      <td>4.309899</td>\n",
       "      <td>...</td>\n",
       "      <td>39</td>\n",
       "      <td>154.0</td>\n",
       "      <td>182.0</td>\n",
       "      <td>6.5</td>\n",
       "      <td>6.000000</td>\n",
       "      <td>1</td>\n",
       "      <td>C1CC1NC(=O)NC2=C(NN=C2)C3=NC4=C(N3)C=C(C=C4)CN...</td>\n",
       "      <td>[0, 0, 1, 0, 0, 0.0, 0.25, 0.0, 0.25, 0, 0, 0,...</td>\n",
       "      <td>3</td>\n",
       "      <td>10</td>\n",
       "    </tr>\n",
       "    <tr>\n",
       "      <th>4</th>\n",
       "      <td>31.653814</td>\n",
       "      <td>22.422106</td>\n",
       "      <td>0</td>\n",
       "      <td>1</td>\n",
       "      <td>51.410761</td>\n",
       "      <td>2.442893</td>\n",
       "      <td>4.885786</td>\n",
       "      <td>51.410761</td>\n",
       "      <td>1.285269</td>\n",
       "      <td>4.622886</td>\n",
       "      <td>...</td>\n",
       "      <td>67</td>\n",
       "      <td>216.0</td>\n",
       "      <td>254.0</td>\n",
       "      <td>13.256944</td>\n",
       "      <td>8.555556</td>\n",
       "      <td>1</td>\n",
       "      <td>CC1=C(C=C(C=C1)C(=O)NC2=C(C=CC(=C2)C(F)(F)F)OC...</td>\n",
       "      <td>[0, 1, 0, 0, 0, 0.375, 1.0, 0.0, 0.5, 0, 0, 0,...</td>\n",
       "      <td>4</td>\n",
       "      <td>10</td>\n",
       "    </tr>\n",
       "  </tbody>\n",
       "</table>\n",
       "<p>5 rows × 1618 columns</p>\n",
       "</div>"
      ],
      "text/plain": [
       "         ABC      ABCGG  nAcid  nBase    SpAbs_A   SpMax_A  SpDiam_A  \\\n",
       "0  18.735621  14.924099      0      0  29.154095  2.588788  5.118091   \n",
       "1  32.956889  23.001891      0      2  54.329075  2.436897  4.873793   \n",
       "2  32.479190  22.135020      0      1  53.591166  2.612384  5.154666   \n",
       "3  22.615486  17.171952      0      1  37.534456  2.468234  4.768875   \n",
       "4  31.653814  22.422106      0      1  51.410761  2.442893  4.885786   \n",
       "\n",
       "      SpAD_A   SpMAD_A   LogEE_A  ... WPol Zagreb1 Zagreb2   mZagreb1  \\\n",
       "0  29.154095  1.267569  4.106965  ...   43   134.0   165.0     8.0625   \n",
       "1  54.329075  1.293549  4.666985  ...   72   224.0   265.0  13.756944   \n",
       "2  53.591166  1.339779  4.653678  ...   75   228.0   280.0  10.777778   \n",
       "3  37.534456  1.340516  4.309899  ...   39   154.0   182.0        6.5   \n",
       "4  51.410761  1.285269  4.622886  ...   67   216.0   254.0  13.256944   \n",
       "\n",
       "   mZagreb2 active                                             smiles  \\\n",
       "0  4.694444      1  CC(C)(C)C1=NC2=C(N1)C3=C(C=C(C=C3)F)C4=C2C=CNC4=O   \n",
       "1  9.138889      1  CC(C)S(=O)(=O)C1=CC=CC=C1NC2=NC(=NC=C2Cl)NC3=C...   \n",
       "2  8.500000      1  CC1=C(C(=CC=C1)C)N2C(=O)C3=CN=C(N=C3N4C2=NC5=C...   \n",
       "3  6.000000      1  C1CC1NC(=O)NC2=C(NN=C2)C3=NC4=C(N3)C=C(C=C4)CN...   \n",
       "4  8.555556      1  CC1=C(C=C(C=C1)C(=O)NC2=C(C=CC(=C2)C(F)(F)F)OC...   \n",
       "\n",
       "                                            smile_ft  id  subset  \n",
       "0  [0, 1, 0, 0, 0, 0.375, 1.0, 0.0, 0.5, 0, 0, 0,...   0      10  \n",
       "1  [0, 1, 0, 0, 0, 0.375, 1.0, 0.0, 0.5, 0, 0, 0,...   1      10  \n",
       "2  [0, 1, 0, 0, 0, 0.375, 1.0, 0.0, 0.5, 0, 0, 0,...   2      10  \n",
       "3  [0, 0, 1, 0, 0, 0.0, 0.25, 0.0, 0.25, 0, 0, 0,...   3      10  \n",
       "4  [0, 1, 0, 0, 0, 0.375, 1.0, 0.0, 0.5, 0, 0, 0,...   4      10  \n",
       "\n",
       "[5 rows x 1618 columns]"
      ]
     },
     "execution_count": 141,
     "metadata": {},
     "output_type": "execute_result"
    }
   ],
   "source": [
    "md.head()"
   ]
  },
  {
   "cell_type": "markdown",
   "metadata": {},
   "source": [
    "# Data Saving"
   ]
  },
  {
   "cell_type": "code",
   "execution_count": 142,
   "metadata": {},
   "outputs": [],
   "source": [
    "from itertools import compress"
   ]
  },
  {
   "cell_type": "code",
   "execution_count": 143,
   "metadata": {},
   "outputs": [],
   "source": [
    "with open('data/egfr_10_full_ft_pd_lines.json', 'r') as f:\n",
    "    data = [json.loads(line) for line in f]"
   ]
  },
  {
   "cell_type": "code",
   "execution_count": 144,
   "metadata": {},
   "outputs": [
    {
     "name": "stdout",
     "output_type": "stream",
     "text": [
      "2\n"
     ]
    }
   ],
   "source": [
    "cols = pd.DataFrame(data).columns\n",
    "print(f'{len(cols) - sum([(col in list(md.columns)) for col in cols])}')"
   ]
  },
  {
   "cell_type": "code",
   "execution_count": 145,
   "metadata": {},
   "outputs": [
    {
     "name": "stdout",
     "output_type": "stream",
     "text": [
      "['pyrimidine', 'quinazoline']\n"
     ]
    }
   ],
   "source": [
    "print(list(compress(cols, [(col not in list(md.columns)) for col in cols])))\n",
    "obmit_cols = [col for col in cols if col not in list(md.columns)]"
   ]
  },
  {
   "cell_type": "markdown",
   "metadata": {},
   "source": [
    "Obmit columns은 어떻게 만들었는지 논문에 나와있지 않음<Br>\n",
    "추후 feature selection에서 제거하거나 해야할 듯"
   ]
  },
  {
   "cell_type": "code",
   "execution_count": 146,
   "metadata": {},
   "outputs": [],
   "source": [
    "for col in obmit_cols:\n",
    "    md[col] = np.full(len(md), 0)"
   ]
  },
  {
   "cell_type": "code",
   "execution_count": 147,
   "metadata": {},
   "outputs": [
    {
     "name": "stdout",
     "output_type": "stream",
     "text": [
      "[]\n"
     ]
    }
   ],
   "source": [
    "print(list(compress(cols, [(col not in list(md.columns)) for col in cols])))\n",
    "obmit_cols = [col for col in cols if col in list(md.columns)]"
   ]
  },
  {
   "cell_type": "code",
   "execution_count": 160,
   "metadata": {},
   "outputs": [],
   "source": [
    "md[cols].to_json(r'data/tyk2.json',orient='records', lines=True)"
   ]
  },
  {
   "cell_type": "markdown",
   "metadata": {},
   "source": [
    "# Data Check"
   ]
  },
  {
   "cell_type": "code",
   "execution_count": 153,
   "metadata": {},
   "outputs": [],
   "source": [
    "def read_data(data_path):\n",
    "    data = None\n",
    "    if data_path.endswith('.json'):\n",
    "        try:\n",
    "            data = pd.read_json(data_path, lines=True)\n",
    "        except ValueError:\n",
    "            data = pd.read_json(data_path)\n",
    "    return data"
   ]
  },
  {
   "cell_type": "code",
   "execution_count": 154,
   "metadata": {},
   "outputs": [],
   "source": [
    "data_path = 'data/tyk2.json'\n",
    "#data_path = 'data/egfr_10_full_ft_pd_lines.json'\n",
    "\n",
    "data = read_data(data_path)"
   ]
  },
  {
   "cell_type": "code",
   "execution_count": 156,
   "metadata": {},
   "outputs": [
    {
     "data": {
      "text/html": [
       "<div>\n",
       "<style scoped>\n",
       "    .dataframe tbody tr th:only-of-type {\n",
       "        vertical-align: middle;\n",
       "    }\n",
       "\n",
       "    .dataframe tbody tr th {\n",
       "        vertical-align: top;\n",
       "    }\n",
       "\n",
       "    .dataframe thead th {\n",
       "        text-align: right;\n",
       "    }\n",
       "</style>\n",
       "<table border=\"1\" class=\"dataframe\">\n",
       "  <thead>\n",
       "    <tr style=\"text-align: right;\">\n",
       "      <th></th>\n",
       "      <th>AATS0Z</th>\n",
       "      <th>AATS0are</th>\n",
       "      <th>AATS0d</th>\n",
       "      <th>AATS0dv</th>\n",
       "      <th>AATS0i</th>\n",
       "      <th>AATS0m</th>\n",
       "      <th>AATS0p</th>\n",
       "      <th>AATS0pe</th>\n",
       "      <th>AATS0se</th>\n",
       "      <th>AATS0v</th>\n",
       "      <th>...</th>\n",
       "      <th>piPC5</th>\n",
       "      <th>piPC6</th>\n",
       "      <th>piPC7</th>\n",
       "      <th>piPC8</th>\n",
       "      <th>piPC9</th>\n",
       "      <th>pyrimidine</th>\n",
       "      <th>quinazoline</th>\n",
       "      <th>smile_ft</th>\n",
       "      <th>smiles</th>\n",
       "      <th>subset</th>\n",
       "    </tr>\n",
       "  </thead>\n",
       "  <tbody>\n",
       "    <tr>\n",
       "      <th>0</th>\n",
       "      <td>24.512821</td>\n",
       "      <td>6.340377</td>\n",
       "      <td>3.846154</td>\n",
       "      <td>8.974359</td>\n",
       "      <td>163.171956</td>\n",
       "      <td>97.910428</td>\n",
       "      <td>1.587114</td>\n",
       "      <td>6.407277</td>\n",
       "      <td>7.773880</td>\n",
       "      <td>237.026191</td>\n",
       "      <td>...</td>\n",
       "      <td>6.738041</td>\n",
       "      <td>7.355032</td>\n",
       "      <td>7.929636</td>\n",
       "      <td>8.497942</td>\n",
       "      <td>8.953173</td>\n",
       "      <td>0</td>\n",
       "      <td>0</td>\n",
       "      <td>[0, 1, 0, 0, 0, 0.375, 1.0, 0.0, 0.5, 0, 0, 0,...</td>\n",
       "      <td>CC(C)(C)C1=NC2=C(N1)C3=C(C=C(C=C3)F)C4=C2C=CNC4=O</td>\n",
       "      <td>10</td>\n",
       "    </tr>\n",
       "    <tr>\n",
       "      <th>1</th>\n",
       "      <td>26.829268</td>\n",
       "      <td>6.070571</td>\n",
       "      <td>3.219512</td>\n",
       "      <td>6.342066</td>\n",
       "      <td>164.769028</td>\n",
       "      <td>107.248642</td>\n",
       "      <td>1.524555</td>\n",
       "      <td>6.164744</td>\n",
       "      <td>7.649270</td>\n",
       "      <td>212.219226</td>\n",
       "      <td>...</td>\n",
       "      <td>6.139750</td>\n",
       "      <td>6.327714</td>\n",
       "      <td>6.685197</td>\n",
       "      <td>7.026177</td>\n",
       "      <td>7.376469</td>\n",
       "      <td>0</td>\n",
       "      <td>0</td>\n",
       "      <td>[0, 1, 0, 0, 0, 0.375, 1.0, 0.0, 0.5, 0, 0, 0,...</td>\n",
       "      <td>CC(C)S(=O)(=O)C1=CC=CC=C1NC2=NC(=NC=C2Cl)NC3=C...</td>\n",
       "      <td>10</td>\n",
       "    </tr>\n",
       "    <tr>\n",
       "      <th>2</th>\n",
       "      <td>22.885714</td>\n",
       "      <td>6.094274</td>\n",
       "      <td>3.685714</td>\n",
       "      <td>7.800000</td>\n",
       "      <td>162.193234</td>\n",
       "      <td>90.402944</td>\n",
       "      <td>1.573107</td>\n",
       "      <td>6.179199</td>\n",
       "      <td>7.575353</td>\n",
       "      <td>231.777721</td>\n",
       "      <td>...</td>\n",
       "      <td>7.064893</td>\n",
       "      <td>7.630803</td>\n",
       "      <td>8.253616</td>\n",
       "      <td>8.865921</td>\n",
       "      <td>9.369196</td>\n",
       "      <td>0</td>\n",
       "      <td>0</td>\n",
       "      <td>[0, 1, 0, 0, 0, 0.375, 1.0, 0.0, 0.5, 0, 0, 0,...</td>\n",
       "      <td>CC1=C(C(=CC=C1)C)N2C(=O)C3=CN=C(N=C3N4C2=NC5=C...</td>\n",
       "      <td>10</td>\n",
       "    </tr>\n",
       "    <tr>\n",
       "      <th>3</th>\n",
       "      <td>23.098039</td>\n",
       "      <td>6.285182</td>\n",
       "      <td>3.470588</td>\n",
       "      <td>7.764706</td>\n",
       "      <td>166.897682</td>\n",
       "      <td>91.170512</td>\n",
       "      <td>1.430816</td>\n",
       "      <td>6.337763</td>\n",
       "      <td>7.762929</td>\n",
       "      <td>213.680942</td>\n",
       "      <td>...</td>\n",
       "      <td>5.971102</td>\n",
       "      <td>6.429694</td>\n",
       "      <td>6.921219</td>\n",
       "      <td>7.392900</td>\n",
       "      <td>7.665589</td>\n",
       "      <td>0</td>\n",
       "      <td>0</td>\n",
       "      <td>[0, 0, 1, 0, 0, 0.0, 0.25, 0.0, 0.25, 0, 0, 0,...</td>\n",
       "      <td>C1CC1NC(=O)NC2=C(NN=C2)C3=NC4=C(N3)C=C(C=C4)CN...</td>\n",
       "      <td>10</td>\n",
       "    </tr>\n",
       "    <tr>\n",
       "      <th>4</th>\n",
       "      <td>24.657143</td>\n",
       "      <td>6.496493</td>\n",
       "      <td>3.514286</td>\n",
       "      <td>9.085714</td>\n",
       "      <td>166.987500</td>\n",
       "      <td>99.059140</td>\n",
       "      <td>1.503893</td>\n",
       "      <td>6.538163</td>\n",
       "      <td>7.906872</td>\n",
       "      <td>225.978626</td>\n",
       "      <td>...</td>\n",
       "      <td>6.467213</td>\n",
       "      <td>6.803540</td>\n",
       "      <td>7.235326</td>\n",
       "      <td>7.656696</td>\n",
       "      <td>8.102889</td>\n",
       "      <td>0</td>\n",
       "      <td>0</td>\n",
       "      <td>[0, 1, 0, 0, 0, 0.375, 1.0, 0.0, 0.5, 0, 0, 0,...</td>\n",
       "      <td>CC1=C(C=C(C=C1)C(=O)NC2=C(C=CC(=C2)C(F)(F)F)OC...</td>\n",
       "      <td>10</td>\n",
       "    </tr>\n",
       "    <tr>\n",
       "      <th>...</th>\n",
       "      <td>...</td>\n",
       "      <td>...</td>\n",
       "      <td>...</td>\n",
       "      <td>...</td>\n",
       "      <td>...</td>\n",
       "      <td>...</td>\n",
       "      <td>...</td>\n",
       "      <td>...</td>\n",
       "      <td>...</td>\n",
       "      <td>...</td>\n",
       "      <td>...</td>\n",
       "      <td>...</td>\n",
       "      <td>...</td>\n",
       "      <td>...</td>\n",
       "      <td>...</td>\n",
       "      <td>...</td>\n",
       "      <td>...</td>\n",
       "      <td>...</td>\n",
       "      <td>...</td>\n",
       "      <td>...</td>\n",
       "      <td>...</td>\n",
       "    </tr>\n",
       "    <tr>\n",
       "      <th>1540</th>\n",
       "      <td>23.263158</td>\n",
       "      <td>6.225868</td>\n",
       "      <td>3.491228</td>\n",
       "      <td>7.964912</td>\n",
       "      <td>162.781755</td>\n",
       "      <td>91.870610</td>\n",
       "      <td>1.509273</td>\n",
       "      <td>6.294189</td>\n",
       "      <td>7.719251</td>\n",
       "      <td>224.688464</td>\n",
       "      <td>...</td>\n",
       "      <td>5.765583</td>\n",
       "      <td>5.930918</td>\n",
       "      <td>6.283434</td>\n",
       "      <td>6.683283</td>\n",
       "      <td>6.990832</td>\n",
       "      <td>0</td>\n",
       "      <td>0</td>\n",
       "      <td>[0, 0, 0, 1, 0, 0.0, 0.25, 0.0, 0.375, 0, 0, 0...</td>\n",
       "      <td>C1CC1[C@@]2([C@H]3CN(C2=O)C4=CC(=NC=C4)NC5=CC=...</td>\n",
       "      <td>10</td>\n",
       "    </tr>\n",
       "    <tr>\n",
       "      <th>1541</th>\n",
       "      <td>23.263158</td>\n",
       "      <td>6.225868</td>\n",
       "      <td>3.491228</td>\n",
       "      <td>7.964912</td>\n",
       "      <td>162.781755</td>\n",
       "      <td>91.870610</td>\n",
       "      <td>1.509273</td>\n",
       "      <td>6.294189</td>\n",
       "      <td>7.719251</td>\n",
       "      <td>224.688464</td>\n",
       "      <td>...</td>\n",
       "      <td>5.765583</td>\n",
       "      <td>5.930918</td>\n",
       "      <td>6.283434</td>\n",
       "      <td>6.683283</td>\n",
       "      <td>6.990832</td>\n",
       "      <td>0</td>\n",
       "      <td>0</td>\n",
       "      <td>[0, 0, 0, 1, 0, 0.0, 0.25, 0.0, 0.375, 0, 0, 0...</td>\n",
       "      <td>C1CC1[C@@]2([C@H]3CN(C2=O)C4=CC(=NC=C4)NC5=CC=...</td>\n",
       "      <td>10</td>\n",
       "    </tr>\n",
       "    <tr>\n",
       "      <th>1542</th>\n",
       "      <td>23.892857</td>\n",
       "      <td>6.307311</td>\n",
       "      <td>3.571429</td>\n",
       "      <td>8.357143</td>\n",
       "      <td>163.894430</td>\n",
       "      <td>94.420368</td>\n",
       "      <td>1.500090</td>\n",
       "      <td>6.369070</td>\n",
       "      <td>7.784642</td>\n",
       "      <td>224.927785</td>\n",
       "      <td>...</td>\n",
       "      <td>5.759296</td>\n",
       "      <td>5.930918</td>\n",
       "      <td>6.282500</td>\n",
       "      <td>6.686407</td>\n",
       "      <td>6.979611</td>\n",
       "      <td>0</td>\n",
       "      <td>0</td>\n",
       "      <td>[0, 0, 0, 1, 0, 0.0, 0.25, 0.0, 0.375, 0, 0, 0...</td>\n",
       "      <td>C1CC1[C@@]2([C@H]3CN(C2=O)C4=CC(=NC=C4)NC5=CC=...</td>\n",
       "      <td>10</td>\n",
       "    </tr>\n",
       "    <tr>\n",
       "      <th>1543</th>\n",
       "      <td>22.508475</td>\n",
       "      <td>6.178890</td>\n",
       "      <td>3.406780</td>\n",
       "      <td>7.525424</td>\n",
       "      <td>163.532124</td>\n",
       "      <td>88.790795</td>\n",
       "      <td>1.473182</td>\n",
       "      <td>6.244895</td>\n",
       "      <td>7.685326</td>\n",
       "      <td>218.125592</td>\n",
       "      <td>...</td>\n",
       "      <td>5.749791</td>\n",
       "      <td>5.906723</td>\n",
       "      <td>6.252145</td>\n",
       "      <td>6.639140</td>\n",
       "      <td>6.938042</td>\n",
       "      <td>0</td>\n",
       "      <td>0</td>\n",
       "      <td>[0, 0, 0, 1, 0, 0.0, 0.25, 0.0, 0.375, 0, 0, 0...</td>\n",
       "      <td>C1CCOCC2=NC(=CC=C2)NC3=NC=CC(=C3)N4C[C@@H](COC...</td>\n",
       "      <td>10</td>\n",
       "    </tr>\n",
       "    <tr>\n",
       "      <th>1544</th>\n",
       "      <td>23.219512</td>\n",
       "      <td>6.241937</td>\n",
       "      <td>3.609756</td>\n",
       "      <td>8.048780</td>\n",
       "      <td>166.100466</td>\n",
       "      <td>91.699009</td>\n",
       "      <td>1.476308</td>\n",
       "      <td>6.303493</td>\n",
       "      <td>7.710784</td>\n",
       "      <td>219.806186</td>\n",
       "      <td>...</td>\n",
       "      <td>5.640576</td>\n",
       "      <td>5.948891</td>\n",
       "      <td>6.325660</td>\n",
       "      <td>6.668491</td>\n",
       "      <td>6.674714</td>\n",
       "      <td>0</td>\n",
       "      <td>0</td>\n",
       "      <td>[0, 1, 0, 0, 0, 0.375, 1.0, 0.0, 0.5, 0, 0, 0,...</td>\n",
       "      <td>C[C@H]1CN([C@]12CCN(C2)C3=NC=NC4=C3C=CN4)C(=O)...</td>\n",
       "      <td>10</td>\n",
       "    </tr>\n",
       "  </tbody>\n",
       "</table>\n",
       "<p>1545 rows × 869 columns</p>\n",
       "</div>"
      ],
      "text/plain": [
       "         AATS0Z  AATS0are    AATS0d   AATS0dv      AATS0i      AATS0m  \\\n",
       "0     24.512821  6.340377  3.846154  8.974359  163.171956   97.910428   \n",
       "1     26.829268  6.070571  3.219512  6.342066  164.769028  107.248642   \n",
       "2     22.885714  6.094274  3.685714  7.800000  162.193234   90.402944   \n",
       "3     23.098039  6.285182  3.470588  7.764706  166.897682   91.170512   \n",
       "4     24.657143  6.496493  3.514286  9.085714  166.987500   99.059140   \n",
       "...         ...       ...       ...       ...         ...         ...   \n",
       "1540  23.263158  6.225868  3.491228  7.964912  162.781755   91.870610   \n",
       "1541  23.263158  6.225868  3.491228  7.964912  162.781755   91.870610   \n",
       "1542  23.892857  6.307311  3.571429  8.357143  163.894430   94.420368   \n",
       "1543  22.508475  6.178890  3.406780  7.525424  163.532124   88.790795   \n",
       "1544  23.219512  6.241937  3.609756  8.048780  166.100466   91.699009   \n",
       "\n",
       "        AATS0p   AATS0pe   AATS0se      AATS0v  ...     piPC5     piPC6  \\\n",
       "0     1.587114  6.407277  7.773880  237.026191  ...  6.738041  7.355032   \n",
       "1     1.524555  6.164744  7.649270  212.219226  ...  6.139750  6.327714   \n",
       "2     1.573107  6.179199  7.575353  231.777721  ...  7.064893  7.630803   \n",
       "3     1.430816  6.337763  7.762929  213.680942  ...  5.971102  6.429694   \n",
       "4     1.503893  6.538163  7.906872  225.978626  ...  6.467213  6.803540   \n",
       "...        ...       ...       ...         ...  ...       ...       ...   \n",
       "1540  1.509273  6.294189  7.719251  224.688464  ...  5.765583  5.930918   \n",
       "1541  1.509273  6.294189  7.719251  224.688464  ...  5.765583  5.930918   \n",
       "1542  1.500090  6.369070  7.784642  224.927785  ...  5.759296  5.930918   \n",
       "1543  1.473182  6.244895  7.685326  218.125592  ...  5.749791  5.906723   \n",
       "1544  1.476308  6.303493  7.710784  219.806186  ...  5.640576  5.948891   \n",
       "\n",
       "         piPC7     piPC8     piPC9  pyrimidine  quinazoline  \\\n",
       "0     7.929636  8.497942  8.953173           0            0   \n",
       "1     6.685197  7.026177  7.376469           0            0   \n",
       "2     8.253616  8.865921  9.369196           0            0   \n",
       "3     6.921219  7.392900  7.665589           0            0   \n",
       "4     7.235326  7.656696  8.102889           0            0   \n",
       "...        ...       ...       ...         ...          ...   \n",
       "1540  6.283434  6.683283  6.990832           0            0   \n",
       "1541  6.283434  6.683283  6.990832           0            0   \n",
       "1542  6.282500  6.686407  6.979611           0            0   \n",
       "1543  6.252145  6.639140  6.938042           0            0   \n",
       "1544  6.325660  6.668491  6.674714           0            0   \n",
       "\n",
       "                                               smile_ft  \\\n",
       "0     [0, 1, 0, 0, 0, 0.375, 1.0, 0.0, 0.5, 0, 0, 0,...   \n",
       "1     [0, 1, 0, 0, 0, 0.375, 1.0, 0.0, 0.5, 0, 0, 0,...   \n",
       "2     [0, 1, 0, 0, 0, 0.375, 1.0, 0.0, 0.5, 0, 0, 0,...   \n",
       "3     [0, 0, 1, 0, 0, 0.0, 0.25, 0.0, 0.25, 0, 0, 0,...   \n",
       "4     [0, 1, 0, 0, 0, 0.375, 1.0, 0.0, 0.5, 0, 0, 0,...   \n",
       "...                                                 ...   \n",
       "1540  [0, 0, 0, 1, 0, 0.0, 0.25, 0.0, 0.375, 0, 0, 0...   \n",
       "1541  [0, 0, 0, 1, 0, 0.0, 0.25, 0.0, 0.375, 0, 0, 0...   \n",
       "1542  [0, 0, 0, 1, 0, 0.0, 0.25, 0.0, 0.375, 0, 0, 0...   \n",
       "1543  [0, 0, 0, 1, 0, 0.0, 0.25, 0.0, 0.375, 0, 0, 0...   \n",
       "1544  [0, 1, 0, 0, 0, 0.375, 1.0, 0.0, 0.5, 0, 0, 0,...   \n",
       "\n",
       "                                                 smiles  subset  \n",
       "0     CC(C)(C)C1=NC2=C(N1)C3=C(C=C(C=C3)F)C4=C2C=CNC4=O      10  \n",
       "1     CC(C)S(=O)(=O)C1=CC=CC=C1NC2=NC(=NC=C2Cl)NC3=C...      10  \n",
       "2     CC1=C(C(=CC=C1)C)N2C(=O)C3=CN=C(N=C3N4C2=NC5=C...      10  \n",
       "3     C1CC1NC(=O)NC2=C(NN=C2)C3=NC4=C(N3)C=C(C=C4)CN...      10  \n",
       "4     CC1=C(C=C(C=C1)C(=O)NC2=C(C=CC(=C2)C(F)(F)F)OC...      10  \n",
       "...                                                 ...     ...  \n",
       "1540  C1CC1[C@@]2([C@H]3CN(C2=O)C4=CC(=NC=C4)NC5=CC=...      10  \n",
       "1541  C1CC1[C@@]2([C@H]3CN(C2=O)C4=CC(=NC=C4)NC5=CC=...      10  \n",
       "1542  C1CC1[C@@]2([C@H]3CN(C2=O)C4=CC(=NC=C4)NC5=CC=...      10  \n",
       "1543  C1CCOCC2=NC(=CC=C2)NC3=NC=CC(=C3)N4C[C@@H](COC...      10  \n",
       "1544  C[C@H]1CN([C@]12CCN(C2)C3=NC=NC4=C3C=CN4)C(=O)...      10  \n",
       "\n",
       "[1545 rows x 869 columns]"
      ]
     },
     "execution_count": 156,
     "metadata": {},
     "output_type": "execute_result"
    }
   ],
   "source": [
    "temp = pd.DataFrame(data)\n",
    "temp"
   ]
  },
  {
   "cell_type": "markdown",
   "metadata": {},
   "source": [
    "# Data Observe"
   ]
  },
  {
   "cell_type": "code",
   "execution_count": 108,
   "metadata": {},
   "outputs": [],
   "source": [
    "egfr_df = pd.DataFrame(data)"
   ]
  },
  {
   "cell_type": "code",
   "execution_count": 117,
   "metadata": {},
   "outputs": [],
   "source": [
    "egfr_df.to_csv('temp.csv')"
   ]
  },
  {
   "cell_type": "code",
   "execution_count": 113,
   "metadata": {},
   "outputs": [
    {
     "data": {
      "text/html": [
       "<div>\n",
       "<style scoped>\n",
       "    .dataframe tbody tr th:only-of-type {\n",
       "        vertical-align: middle;\n",
       "    }\n",
       "\n",
       "    .dataframe tbody tr th {\n",
       "        vertical-align: top;\n",
       "    }\n",
       "\n",
       "    .dataframe thead th {\n",
       "        text-align: right;\n",
       "    }\n",
       "</style>\n",
       "<table border=\"1\" class=\"dataframe\">\n",
       "  <thead>\n",
       "    <tr style=\"text-align: right;\">\n",
       "      <th></th>\n",
       "      <th>id</th>\n",
       "      <th>quinazoline</th>\n",
       "      <th>pyrimidine</th>\n",
       "      <th>subset</th>\n",
       "    </tr>\n",
       "  </thead>\n",
       "  <tbody>\n",
       "    <tr>\n",
       "      <th>0</th>\n",
       "      <td>EGIN0000009</td>\n",
       "      <td>1</td>\n",
       "      <td>0</td>\n",
       "      <td>10</td>\n",
       "    </tr>\n",
       "    <tr>\n",
       "      <th>1</th>\n",
       "      <td>EGIN0000014</td>\n",
       "      <td>1</td>\n",
       "      <td>0</td>\n",
       "      <td>10</td>\n",
       "    </tr>\n",
       "    <tr>\n",
       "      <th>2</th>\n",
       "      <td>EGIN0000043</td>\n",
       "      <td>1</td>\n",
       "      <td>0</td>\n",
       "      <td>10</td>\n",
       "    </tr>\n",
       "    <tr>\n",
       "      <th>3</th>\n",
       "      <td>EGIN0000667</td>\n",
       "      <td>0</td>\n",
       "      <td>1</td>\n",
       "      <td>10</td>\n",
       "    </tr>\n",
       "    <tr>\n",
       "      <th>4</th>\n",
       "      <td>EGIN0000847</td>\n",
       "      <td>0</td>\n",
       "      <td>0</td>\n",
       "      <td>10</td>\n",
       "    </tr>\n",
       "    <tr>\n",
       "      <th>...</th>\n",
       "      <td>...</td>\n",
       "      <td>...</td>\n",
       "      <td>...</td>\n",
       "      <td>...</td>\n",
       "    </tr>\n",
       "    <tr>\n",
       "      <th>3487</th>\n",
       "      <td>EGIN0000842</td>\n",
       "      <td>0</td>\n",
       "      <td>0</td>\n",
       "      <td>10</td>\n",
       "    </tr>\n",
       "    <tr>\n",
       "      <th>3488</th>\n",
       "      <td>EGIN0000843</td>\n",
       "      <td>0</td>\n",
       "      <td>0</td>\n",
       "      <td>10</td>\n",
       "    </tr>\n",
       "    <tr>\n",
       "      <th>3489</th>\n",
       "      <td>EGIN0000844</td>\n",
       "      <td>0</td>\n",
       "      <td>0</td>\n",
       "      <td>10</td>\n",
       "    </tr>\n",
       "    <tr>\n",
       "      <th>3490</th>\n",
       "      <td>EGIN0000845</td>\n",
       "      <td>0</td>\n",
       "      <td>0</td>\n",
       "      <td>10</td>\n",
       "    </tr>\n",
       "    <tr>\n",
       "      <th>3491</th>\n",
       "      <td>EGIN0000846</td>\n",
       "      <td>0</td>\n",
       "      <td>0</td>\n",
       "      <td>10</td>\n",
       "    </tr>\n",
       "  </tbody>\n",
       "</table>\n",
       "<p>3492 rows × 4 columns</p>\n",
       "</div>"
      ],
      "text/plain": [
       "               id  quinazoline  pyrimidine  subset\n",
       "0     EGIN0000009            1           0      10\n",
       "1     EGIN0000014            1           0      10\n",
       "2     EGIN0000043            1           0      10\n",
       "3     EGIN0000667            0           1      10\n",
       "4     EGIN0000847            0           0      10\n",
       "...           ...          ...         ...     ...\n",
       "3487  EGIN0000842            0           0      10\n",
       "3488  EGIN0000843            0           0      10\n",
       "3489  EGIN0000844            0           0      10\n",
       "3490  EGIN0000845            0           0      10\n",
       "3491  EGIN0000846            0           0      10\n",
       "\n",
       "[3492 rows x 4 columns]"
      ]
     },
     "execution_count": 113,
     "metadata": {},
     "output_type": "execute_result"
    }
   ],
   "source": [
    "egfr_df[['id','quinazoline','pyrimidine','subset']]"
   ]
  },
  {
   "cell_type": "code",
   "execution_count": 114,
   "metadata": {},
   "outputs": [
    {
     "data": {
      "text/plain": [
       "subset\n",
       "10        3492\n",
       "dtype: int64"
      ]
     },
     "execution_count": 114,
     "metadata": {},
     "output_type": "execute_result"
    }
   ],
   "source": [
    "egfr_df[['subset']].value_counts()"
   ]
  }
 ],
 "metadata": {
  "kernelspec": {
   "display_name": "Python 3",
   "language": "python",
   "name": "python3"
  },
  "language_info": {
   "codemirror_mode": {
    "name": "ipython",
    "version": 3
   },
   "file_extension": ".py",
   "mimetype": "text/x-python",
   "name": "python",
   "nbconvert_exporter": "python",
   "pygments_lexer": "ipython3",
   "version": "3.8.5"
  }
 },
 "nbformat": 4,
 "nbformat_minor": 4
}
